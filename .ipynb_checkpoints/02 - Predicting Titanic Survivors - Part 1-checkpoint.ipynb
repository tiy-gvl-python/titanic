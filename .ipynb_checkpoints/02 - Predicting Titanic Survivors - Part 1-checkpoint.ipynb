{
 "cells": [
  {
   "cell_type": "code",
   "execution_count": 46,
   "metadata": {
    "collapsed": false
   },
   "outputs": [],
   "source": [
    "import pandas as pd\n",
    "import numpy as np\n",
    "import matplotlib.pyplot as plt\n",
    "import seaborn as sb"
   ]
  },
  {
   "cell_type": "code",
   "execution_count": 47,
   "metadata": {
    "collapsed": false
   },
   "outputs": [],
   "source": [
    "%matplotlib inline"
   ]
  },
  {
   "cell_type": "markdown",
   "metadata": {},
   "source": [
    "Given what we've learned so far, let's tackle [this Kaggle competition](https://www.kaggle.com/c/titanic-gettingStarted)."
   ]
  },
  {
   "cell_type": "markdown",
   "metadata": {},
   "source": [
    "----\n",
    "Read the `titanic/train.csv` and get some info on it."
   ]
  },
  {
   "cell_type": "code",
   "execution_count": null,
   "metadata": {
    "collapsed": false
   },
   "outputs": [],
   "source": []
  },
  {
   "cell_type": "markdown",
   "metadata": {},
   "source": [
    "What does our `dataFrame.head()` look like?"
   ]
  },
  {
   "cell_type": "code",
   "execution_count": null,
   "metadata": {
    "collapsed": false
   },
   "outputs": [],
   "source": []
  },
  {
   "cell_type": "markdown",
   "metadata": {},
   "source": [
    "We've got many features here:\n",
    "\n",
    "* The passenger class (first, second, or third)\n",
    "* The sex of the passenger\n",
    "* The age of the passenger (some are missing -- we'll have to figure out what to do about that)\n",
    "* The number of siblings and spouses the passenger had on board (SubSp)\n",
    "* The number of parents and children the passenger had on board (Parch)\n",
    "* The amount the passenger paid for their ticket\n",
    "* Where the passenger embarked from\n",
    "\n",
    "The name and cabin are immaterial. The cabin might help, if we had a map of the ship and\n",
    "there weren't so many null values for cabin.\n",
    "\n",
    "_Using your intuition, what feature vectors might be important?_"
   ]
  },
  {
   "cell_type": "markdown",
   "metadata": {},
   "source": [
    "## Finding patterns in the data"
   ]
  },
  {
   "cell_type": "markdown",
   "metadata": {},
   "source": [
    "Lets make a horizontal bar chart based on the survival occurences given the sex of the passenger.\n",
    "\n",
    "<!---\n",
    "sex_results = pd.pivot_table(train, index=[\"Sex\"], values=[\"Survived\"])\n",
    "sex_results.plot(kind=\"barh\")\n",
    "plt.axvline(x=0.5, linewidth=2, color='r')\n",
    "sex_results\n",
    "-->"
   ]
  },
  {
   "cell_type": "code",
   "execution_count": null,
   "metadata": {
    "collapsed": false
   },
   "outputs": [],
   "source": []
  },
  {
   "cell_type": "markdown",
   "metadata": {},
   "source": [
    "There's a marked difference in survival rates between men and women. Let's go ahead and enter the competition just using that as our metric."
   ]
  },
  {
   "cell_type": "markdown",
   "metadata": {},
   "source": [
    "We need to output a CSV with the following structure:\n",
    "\n",
    "  - PassengerId\n",
    "  - Survived (as 1(Yes) or 0(No))\n",
    "  \n",
    "Given our assumption, lets mark Females as 1 and Males as 0.\n",
    "\n",
    "Write this to a CSV and upload it to the kaggle competition.\n",
    "\n",
    "<!---\n",
    "test = pd.read_csv(\"titanic/test.csv\")\n",
    "test[\"Survived\"] = 0\n",
    "test.loc[test[\"Sex\"] == \"female\", \"Survived\"] = 1\n",
    "test = test[[\"PassengerId\", \"Survived\"]]\n",
    "test.to_csv(\"titanic/gendermodel.csv\", index=False)\n",
    "test\n",
    "-->"
   ]
  },
  {
   "cell_type": "code",
   "execution_count": null,
   "metadata": {
    "collapsed": false
   },
   "outputs": [],
   "source": []
  },
  {
   "cell_type": "markdown",
   "metadata": {},
   "source": [
    "Does age seem to matter?"
   ]
  },
  {
   "cell_type": "markdown",
   "metadata": {},
   "source": [
    "What do our survival rates look like when we further aggregate our sex based on their \"Adult Status\" (>= 18 years old)?\n",
    "\n",
    "<!---\n",
    "train[\"AgeRange\"] = train[\"Age\"].map(lambda x: \"adult\" if x >= 18 else \"child\")\n",
    "age_plot = pd.pivot_table(train, index=[\"Sex\", \"AgeRange\"], values=[\"Survived\"])\n",
    "age_plot.plot(kind=\"barh\")\n",
    "plt.axvline(x=0.5, linewidth=2, color='r')\n",
    "age_plot\n",
    "--->"
   ]
  },
  {
   "cell_type": "code",
   "execution_count": null,
   "metadata": {
    "collapsed": false
   },
   "outputs": [],
   "source": []
  },
  {
   "cell_type": "markdown",
   "metadata": {},
   "source": [
    "How about passenger class?"
   ]
  },
  {
   "cell_type": "markdown",
   "metadata": {},
   "source": [
    "The `dataFrame` contains a `Pclass` column denoting the passenger class.\n",
    "\n",
    "  - 1: First Class\n",
    "  - 2: Second Class\n",
    "  - 3: Third Class\n",
    "  \n",
    "Add the `Pclass` column to our pivot table and see how this affects our survival rates.\n",
    "\n",
    "<!---\n",
    "passenger_class = pd.pivot_table(train, index=[\"Sex\", \"Pclass\"], values=[\"Survived\"])\n",
    "passenger_class.plot(kind=\"barh\")\n",
    "plt.axvline(x=0.5, linewidth=2, color='r')\n",
    "passenger_class\n",
    "--->"
   ]
  },
  {
   "cell_type": "code",
   "execution_count": null,
   "metadata": {
    "collapsed": false
   },
   "outputs": [],
   "source": []
  },
  {
   "cell_type": "markdown",
   "metadata": {},
   "source": [
    "Passenger class definitely mattered. The survival rate for women in 3rd class is under 50%.\n",
    "\n",
    "What if we added in the price of the ticket? This will work best with discrete values, so we break it into tickets less than \\$10, tickets between \\$10 and \\$20, tickets between \\$20 and \\$30, and tickets over \\$30."
   ]
  },
  {
   "cell_type": "markdown",
   "metadata": {},
   "source": [
    "Recalculate our `TicketPrice` column to be less exact but contain price ranges.  Include our new range in our pivot table and see how this further aggregation affects our result.\n",
    "\n",
    "<!---\n",
    "def ticket_price(fare):\n",
    "    if fare < 10:\n",
    "        return \"< $10\"\n",
    "    elif fare < 20:\n",
    "        return \"$10-20\"\n",
    "    elif fare < 30:\n",
    "        return \"$20-30\"\n",
    "    else:\n",
    "        return \"> $30\"\n",
    "    \n",
    "train[\"TicketPrice\"] = train[\"Fare\"].map(ticket_price)\n",
    "ticket_price = pd.pivot_table(train, index=[\"Sex\", \"Pclass\", \"TicketPrice\"], values=[\"Survived\"])\n",
    "ticket_price.plot(kind=\"barh\")\n",
    "plt.axvline(x=0.5, linewidth=2, color='r')\n",
    "ticket_price\n",
    "--->"
   ]
  },
  {
   "cell_type": "code",
   "execution_count": null,
   "metadata": {
    "collapsed": false
   },
   "outputs": [],
   "source": []
  },
  {
   "cell_type": "markdown",
   "metadata": {},
   "source": [
    "Ok, this is now meaningful. The groups with survival rate > 50% are:\n",
    "\n",
    "* Women in 1st and 2nd class.\n",
    "* Women in 3rd class that paid $20 or less."
   ]
  },
  {
   "cell_type": "markdown",
   "metadata": {},
   "source": [
    "So with our new mark a passenger as Survived or not based on the above criteria.\n",
    "\n",
    "<!---\n",
    "test = pd.read_csv(\"titanic/test.csv\")\n",
    "\n",
    "test[\"Survived\"] = 0\n",
    "test.loc[test[\"Sex\"] == \"female\", \"Survived\"] = 1\n",
    "test.loc[(test[\"Pclass\"] == 3) & (test[\"Fare\"] > 20), \"Survived\"] = 0\n",
    "test = test[[\"PassengerId\", \"Survived\"]]\n",
    "test.to_csv(\"titanic/genderclassmodel.csv\", index=False)\n",
    "test\n",
    "--->"
   ]
  },
  {
   "cell_type": "code",
   "execution_count": null,
   "metadata": {
    "collapsed": false
   },
   "outputs": [],
   "source": []
  },
  {
   "cell_type": "markdown",
   "metadata": {},
   "source": [
    "## Cleaning data\n",
    "\n",
    "To do any better than this, we'll need to clean up our data. We'll need everything to be numerical so we can use them as real features.\n",
    "\n",
    "Let's turn all the strings we might use into numbers.\n",
    "\n",
    "<!---\n",
    "train['Gender'] = train['Sex'].map( {'female': 0, 'male': 1} ).astype(int)\n",
    "--->"
   ]
  },
  {
   "cell_type": "code",
   "execution_count": null,
   "metadata": {
    "collapsed": false
   },
   "outputs": [],
   "source": []
  },
  {
   "cell_type": "markdown",
   "metadata": {},
   "source": [
    "Get the median age of passengers by sex and class, for filling in missing ages.\n",
    "\n",
    "Given 2 sexes and 3 classes each, calculate each median age for each category.\n",
    "\n",
    "<!---\n",
    "median_ages = np.zeros((2,3))\n",
    "\n",
    "for i in range(0, 2):\n",
    "    for j in range(0, 3):\n",
    "        median_ages[i,j] = train[(train['Gender'] == i) & \\\n",
    "                                 (train['Pclass'] == j+1)]['Age'].dropna().median()\n",
    "\n",
    "median_ages\n",
    "--->"
   ]
  },
  {
   "cell_type": "code",
   "execution_count": null,
   "metadata": {
    "collapsed": false
   },
   "outputs": [],
   "source": []
  },
  {
   "cell_type": "markdown",
   "metadata": {},
   "source": [
    "Calculate the median age for each sex/class permutation as well.\n",
    "\n",
    "Find each missing age and set it's age to the appropriate median age.\n",
    "\n",
    "<!---\n",
    "for i in range(0, 2):\n",
    "    for j in range(0, 3):\n",
    "        train.loc[(train.Age.isnull()) & (train.Gender == i) & (train.Pclass == j+1),\\\n",
    "                'AgeFill'] = median_ages[i,j]\n",
    "\n",
    "train[train['Age'].isnull()][['Gender','Pclass','Age','AgeFill']].head()\n",
    "--->"
   ]
  },
  {
   "cell_type": "code",
   "execution_count": null,
   "metadata": {
    "collapsed": false
   },
   "outputs": [],
   "source": []
  },
  {
   "cell_type": "markdown",
   "metadata": {},
   "source": [
    "Create a new column `AgeIsNull` and store an integer representing a Boolean as it's value.\n",
    "\n",
    "<!---\n",
    "train['AgeIsNull'] = pd.isnull(train.Age).astype(int)\n",
    "--->"
   ]
  },
  {
   "cell_type": "code",
   "execution_count": null,
   "metadata": {
    "collapsed": false
   },
   "outputs": [],
   "source": []
  },
  {
   "cell_type": "code",
   "execution_count": 48,
   "metadata": {
    "collapsed": false
   },
   "outputs": [],
   "source": [
    "# Helper Functions - provided for brevity\n",
    "\n",
    "def calc_median_ages(df):\n",
    "    median_ages = np.zeros((2,3))\n",
    "    \n",
    "    # find median age for each combination of Gender and Pclass\n",
    "    \n",
    "    for i in range(0, 2):\n",
    "        for j in range(0, 3):\n",
    "            median_ages[i,j] = df[(df['Gender'] == i) & \\\n",
    "                                  (df['Pclass'] == j+1)]['Age'].dropna().median()\n",
    "            \n",
    "    return median_ages\n",
    "\n",
    "\n",
    "def guess_ages(df, median_ages=None):\n",
    "    if median_ages is None:\n",
    "        median_ages = calc_median_ages(df)\n",
    "    \n",
    "    # Get each combination of Gender and Pclass that is null and set it's \n",
    "    # `Age` to the median age associated with it's Gender and Pclass\n",
    "    for i in range(0, 2):\n",
    "        for j in range(0, 3):\n",
    "            df.loc[(df.Age.isnull()) & (df.Gender == i) & (df.Pclass == j+1),\\\n",
    "                    'Age'] = median_ages[i,j]\n",
    "            \n",
    "    df['GuessedAge'] = pd.isnull(df.Age).astype(int)\n",
    "    return df\n",
    "\n",
    "def clean(df, median_ages=None):\n",
    "    df['Gender'] = df['Sex'].map( {'female': 0, 'male': 1} ).astype(int)\n",
    "    df = guess_ages(df, median_ages)\n",
    "    df = df.drop(['Ticket', 'Cabin', 'Sex'], axis=1)\n",
    "    \n",
    "    return df"
   ]
  },
  {
   "cell_type": "markdown",
   "metadata": {},
   "source": [
    "Read in the CSV again, clean the `dataFrame` and see the `.info()` on it."
   ]
  },
  {
   "cell_type": "code",
   "execution_count": null,
   "metadata": {
    "collapsed": false
   },
   "outputs": [],
   "source": []
  },
  {
   "cell_type": "markdown",
   "metadata": {},
   "source": [
    "We might want to get the port the passenger embarked from as a number. Do this as an exercise.\n",
    "\n",
    "We also might want to use regular expressions on the names to look for titles like \"Dr\" and \"Rev\".\n",
    "\n",
    "We may want to add new features, like total family size."
   ]
  },
  {
   "cell_type": "code",
   "execution_count": 49,
   "metadata": {
    "collapsed": false
   },
   "outputs": [
    {
     "name": "stdout",
     "output_type": "stream",
     "text": [
      "<class 'pandas.core.frame.DataFrame'>\n",
      "Int64Index: 418 entries, 0 to 417\n",
      "Data columns (total 11 columns):\n",
      "PassengerId    418 non-null int64\n",
      "Pclass         418 non-null int64\n",
      "Name           418 non-null object\n",
      "Sex            418 non-null object\n",
      "Age            332 non-null float64\n",
      "SibSp          418 non-null int64\n",
      "Parch          418 non-null int64\n",
      "Ticket         418 non-null object\n",
      "Fare           417 non-null float64\n",
      "Cabin          91 non-null object\n",
      "Embarked       418 non-null object\n",
      "dtypes: float64(2), int64(4), object(5)\n",
      "memory usage: 39.2+ KB\n"
     ]
    }
   ],
   "source": [
    "median_ages = calc_median_ages(train)\n",
    "test = pd.read_csv(\"titanic/test.csv\")\n",
    "test.info()"
   ]
  },
  {
   "cell_type": "code",
   "execution_count": 50,
   "metadata": {
    "collapsed": false
   },
   "outputs": [
    {
     "name": "stdout",
     "output_type": "stream",
     "text": [
      "<class 'pandas.core.frame.DataFrame'>\n",
      "Int64Index: 418 entries, 0 to 417\n",
      "Data columns (total 10 columns):\n",
      "PassengerId    418 non-null int64\n",
      "Pclass         418 non-null int64\n",
      "Name           418 non-null object\n",
      "Age            418 non-null float64\n",
      "SibSp          418 non-null int64\n",
      "Parch          418 non-null int64\n",
      "Fare           417 non-null float64\n",
      "Embarked       418 non-null object\n",
      "Gender         418 non-null int64\n",
      "GuessedAge     418 non-null int64\n",
      "dtypes: float64(2), int64(6), object(2)\n",
      "memory usage: 35.9+ KB\n"
     ]
    }
   ],
   "source": [
    "test = clean(test, median_ages)\n",
    "test.info()"
   ]
  },
  {
   "cell_type": "code",
   "execution_count": null,
   "metadata": {
    "collapsed": false
   },
   "outputs": [],
   "source": []
  }
 ],
 "metadata": {
  "kernelspec": {
   "display_name": "Python 3",
   "language": "python",
   "name": "python3"
  },
  "language_info": {
   "codemirror_mode": {
    "name": "ipython",
    "version": 3
   },
   "file_extension": ".py",
   "mimetype": "text/x-python",
   "name": "python",
   "nbconvert_exporter": "python",
   "pygments_lexer": "ipython3",
   "version": "3.4.3"
  }
 },
 "nbformat": 4,
 "nbformat_minor": 0
}
