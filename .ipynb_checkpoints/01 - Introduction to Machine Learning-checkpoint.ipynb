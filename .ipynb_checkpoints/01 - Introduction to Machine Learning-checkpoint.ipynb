{
 "cells": [
  {
   "cell_type": "code",
   "execution_count": 1,
   "metadata": {
    "collapsed": false
   },
   "outputs": [],
   "source": [
    "import pandas as pd\n",
    "import numpy as np\n",
    "import matplotlib.pyplot as plt\n",
    "import seaborn as sbs"
   ]
  },
  {
   "cell_type": "code",
   "execution_count": 7,
   "metadata": {
    "collapsed": false
   },
   "outputs": [],
   "source": [
    "%matplotlib inline"
   ]
  },
  {
   "cell_type": "markdown",
   "metadata": {},
   "source": [
    "Machine learning is a very large topic, and we're covering it for the one week, so this will be a survey."
   ]
  },
  {
   "cell_type": "markdown",
   "metadata": {},
   "source": [
    "## scikit-learn\n",
    "\n",
    "The Python package we will be using for most everything this week is `scikit-learn`.\n",
    "\n",
    "Download it: `pip install scikit-learn`.\n",
    "\n",
    "Learn about it: http://scikit-learn.org/"
   ]
  },
  {
   "cell_type": "markdown",
   "metadata": {},
   "source": [
    "## What is machine learning?"
   ]
  },
  {
   "cell_type": "markdown",
   "metadata": {},
   "source": [
    "Lots of definitions. A simple one: \"a field of study that gives computers the ability to learn without being explicitly programmed.\" (Arthur Samuel)\n",
    "\n",
    "Different types:\n",
    "\n",
    "* supervised learning: prediction/regression, classification\n",
    "* unsupervised learning: clustering, organizing\n",
    "\n",
    "Machine learning \"involves observing a set of examples that represent incomplete information about some statistical phenomenon, and then attempting to infer something about the process that generated those examples.\" (John Gottag, _Introduction to Programming and Computation with Python_)\n",
    "\n",
    "(A large amount of what comes below comes from _Introduction to Programming and Computation with Python._)\n",
    "\n",
    "Machine learning is at its core about representation and generalization.\n",
    "\n",
    "* __representation__ is extracting structure from data\n",
    "* __generalization__ is making predictions from data"
   ]
  },
  {
   "cell_type": "markdown",
   "metadata": {},
   "source": [
    "## Feature vectors"
   ]
  },
  {
   "cell_type": "code",
   "execution_count": 8,
   "metadata": {
    "collapsed": false
   },
   "outputs": [],
   "source": [
    "dog_breeds = {\"Alaskan Malamute\": {\"height\": 24, \"weight\": 80, \"energy\": 4},\n",
    "              \"Bichon Frise\": {\"height\": 10, \"weight\": 9.5, \"energy\": 4},\n",
    "              \"Irish Wolfhound\": {\"height\": 32, \"weight\": 120, \"energy\": 2},\n",
    "              \"Basset Hound\": {\"height\": 14, \"weight\": 50, \"energy\": 2}}\n",
    "\n",
    "set_a = {\"Alaskan Malamute\", \"Irish Wolfhound\"}\n",
    "set_b = {\"Bichon Frise\", \"Basset Hound\"}"
   ]
  },
  {
   "cell_type": "markdown",
   "metadata": {},
   "source": [
    "_How were the above separated?_\n",
    "\n",
    "The information being used here is called a _feature vector_. Each element of the vector describes some feature of the example. _What other feature vectors might we have here? Which ones are more useful than others?_\n",
    "\n",
    "In __supervised learning__, we have the labels we want to apply to our data and the feature vectors of our data, like we do above. Classification, a supervised learning technique, could take the data above and then given a new example, place it in the right set based on its height. This is used for many applications: detecting spam or fraud, labeling documents, recommending products.\n",
    "\n",
    "In __unsupervised learning__, we have our feature vectors, but no labels. Unsupervised learning looks for structure in our feature vectors that we do not yet know. Given the dog breeds above, unsupervised learning might break them into tall and short dogs, heavy and light dogs, or high and low energy dogs."
   ]
  },
  {
   "cell_type": "markdown",
   "metadata": {},
   "source": [
    "### Figuring out our feature vectors"
   ]
  },
  {
   "cell_type": "markdown",
   "metadata": {},
   "source": [
    "The problem with much of our data is that there's too much of it. If you used every possible feature to organize your data, you would likely end up with just a giant mess. Using too many features can make a bad statistical model, and can also slow down the learning process.\n",
    "\n",
    "__Feature extraction__ is hard, but is necessary. Even in unsupervised learning, we need human input to decide what feature vectors to use."
   ]
  },
  {
   "cell_type": "markdown",
   "metadata": {},
   "source": [
    "Create a `list` of `dict`s that contain the following features:\n",
    "  - _name (string)\n",
    "  - egg-laying (bool)\n",
    "  - scales (bool)\n",
    "  - poisonous (bool)\n",
    "  - cold-blooded (bool)\n",
    "  - num_legs (int)\n",
    "  \n",
    "Create a `dataFrame` with this list.\n",
    "\n",
    "<!---\n",
    "animals = [{\"_name\": \"Cobra\", \"egg-laying\": True, \"scales\": True,\n",
    "            \"poisonous\": True, \"cold-blooded\": True, \"num_legs\": 0}, \n",
    "           {\"_name\": \"Rattlesnake\", \"egg-laying\": True, \"scales\": True,\n",
    "            \"poisonous\": True, \"cold-blooded\": True, \"num_legs\": 0},\n",
    "           {\"_name\": \"Boa constrictor\", \"egg-laying\": False, \"scales\": True,\n",
    "            \"poisonous\": False, \"cold-blooded\": True, \"num_legs\": 0},\n",
    "           {\"_name\": \"Alligator\", \"egg-laying\": True, \"scales\": True,\n",
    "            \"poisonous\": False, \"cold-blooded\": True, \"num_legs\": 4},\n",
    "           {\"_name\": \"Dart frog\", \"egg-laying\": True, \"scales\": False,\n",
    "            \"poisonous\": True, \"cold-blooded\": False, \"num_legs\": 4},\n",
    "           {\"_name\": \"Salmon\", \"egg-laying\": True, \"scales\": True,\n",
    "            \"poisonous\": False, \"cold-blooded\": True, \"num_legs\": 0},\n",
    "           {\"_name\": \"Python\", \"egg-laying\": True, \"scales\": True,\n",
    "            \"poisonous\": False, \"cold-blooded\": True, \"num_legs\": 0}]\n",
    "pd.DataFrame(animals)\n",
    "--->"
   ]
  },
  {
   "cell_type": "code",
   "execution_count": null,
   "metadata": {
    "collapsed": false
   },
   "outputs": [],
   "source": []
  },
  {
   "cell_type": "markdown",
   "metadata": {},
   "source": [
    "_What features help determine if an animal is a reptile or not, based off this data?_"
   ]
  },
  {
   "cell_type": "markdown",
   "metadata": {},
   "source": [
    "## Measuring distance"
   ]
  },
  {
   "cell_type": "markdown",
   "metadata": {},
   "source": [
    "Let's say we want to use the above data to give us the similarity of two animals. We might ask, for example, if an alligator is more like a cobra or a dart frog.\n",
    "\n",
    "In order to do this, we can measure the similarity of the feature vectors, but the vectors must be made up of numbers first. Four of ours are booleans, so let's convert them.\n",
    "\n",
    "Iterate over the `df.columns` and set anything not `_name` to an `int`\n",
    "\n",
    "<!---\n",
    "df = pd.DataFrame(animals)\n",
    "for col in df.columns:\n",
    "    if col is not \"_name\":\n",
    "        df[col] = df[col].astype(np.int)\n",
    "df\n",
    "--->"
   ]
  },
  {
   "cell_type": "code",
   "execution_count": null,
   "metadata": {
    "collapsed": false
   },
   "outputs": [],
   "source": []
  },
  {
   "cell_type": "markdown",
   "metadata": {},
   "source": [
    "Let's create a feature vector for each animal.\n",
    "\n",
    "You can convert your `dataFrame` to a dictionary with:\n",
    "\n",
    "`df.T.to_dict()`\n",
    "\n",
    "Iterate over it's `.items()` and set the value in our animals dict to an `np.array` of the list of values.\n",
    "\n",
    "<!---\n",
    "df.index = df.pop(\"_name\")\n",
    "animal_dict = df.T.to_dict()\n",
    "animal_features = {}\n",
    "for key, value in animal_dict.items():\n",
    "    animal_features[key] = np.array(list(value.values()))\n",
    "animal_features\n",
    "--->"
   ]
  },
  {
   "cell_type": "code",
   "execution_count": null,
   "metadata": {
    "collapsed": false
   },
   "outputs": [],
   "source": []
  },
  {
   "cell_type": "markdown",
   "metadata": {},
   "source": [
    "Now, we are going to use a formula called the __Euclidean distance.__ This is used to compare the distance between equal-length vectors of numbers.\n",
    "\n",
    "$$distance(V1, V2) = \\sqrt{\\sum\\limits_{i=1}^{len}(V1_i-V2_i)^{2}}$$\n",
    "\n",
    "Here's that in English:\n",
    "\n",
    "The distance between vector 1 and vector 2 is the square root of the sum of the difference between each of their features squared.\n",
    "\n",
    "This sounds really hard, but is much like something we've done before: the Pythagorean theorem. If you have two vectors with two elements each, you could see those as x/y coordinates.\n",
    "\n",
    "* V1 = [0, 0]\n",
    "* V2 = [3, 4]\n",
    "\n",
    "Take the difference of each coordinate squared: $(3 - 0)^2 = 9; (4 - 0)^2 = 16$. \n",
    "\n",
    "Sum them: $9 + 16 = 25$.\n",
    "\n",
    "Now find the square root: $\\sqrt{25} = 5$.\n",
    "\n",
    "The Euclidean distance between these vectors is 5, the same as the hypotenuse of a right triangle using them as coordinates would be. The difference is that the Euclidean distance can be used with vectors of any length."
   ]
  },
  {
   "cell_type": "markdown",
   "metadata": {},
   "source": [
    "Lets write our own Euclidean distance function to help us out.\n",
    "\n",
    "Make sure it takes 2 vectors (lists of numbers) as parameters, calculates the squares of the vectors and stores as a new vector, and return the square root of the sum of the numbers in the squared vector.\n",
    "\n",
    "<!---\n",
    "import math\n",
    "\n",
    "def euclidean_distance(v1, v2):\n",
    "    squares = (v1 - v2) ** 2\n",
    "    return math.sqrt(squares.sum())\n",
    "\n",
    "euclidean_distance(np.array([0, 0]), np.array([3, 4]))\n",
    "--->"
   ]
  },
  {
   "cell_type": "code",
   "execution_count": null,
   "metadata": {
    "collapsed": true
   },
   "outputs": [],
   "source": []
  },
  {
   "cell_type": "markdown",
   "metadata": {
    "collapsed": false
   },
   "source": [
    "Create a function that dates a dictionary (of animals for example), and creates a new `dataFrame` that contains the animal as both columns and rows while each cell contains the Euclidean distance between each of the animals.  Display `--` for instances of the animal when compared with itself.\n",
    "\n",
    "<!---\n",
    "def compare_animals(animals, keys=None):\n",
    "    \"\"\"Given a dictionary of animals -- keys are names, values are NumPy arrays --\n",
    "    build a table of Euclidean distance between each animal.\"\"\"\n",
    "    if keys is None:\n",
    "        keys = list(animals.keys())\n",
    "    col_labels = keys\n",
    "    row_labels = col_labels[:]\n",
    "    table = []\n",
    "    for rowl in row_labels:\n",
    "        row = []\n",
    "        for coll in col_labels:\n",
    "            if rowl == coll:\n",
    "                row.append(\"--\")\n",
    "            else:\n",
    "                distance = euclidean_distance(animals[rowl], animals[coll])\n",
    "                row.append(str(round(distance, 2)))\n",
    "        table.append(row)\n",
    "\n",
    "    df = pd.DataFrame(table, columns=col_labels, index=row_labels)\n",
    "    return df\n",
    "--->"
   ]
  },
  {
   "cell_type": "code",
   "execution_count": null,
   "metadata": {
    "collapsed": false
   },
   "outputs": [],
   "source": []
  },
  {
   "cell_type": "markdown",
   "metadata": {},
   "source": [
    "Lets view the `dataFrame` returned when asked to compare the following animals:\n",
    "\n",
    " - Rattlesnake\n",
    " - Boa Constrictor\n",
    " - Dart frog\n",
    " - Alligator\n",
    " \n",
    "<!---\n",
    "compare_animals(animal_features, \n",
    "                ['Rattlesnake', 'Boa constrictor', 'Dart frog', 'Alligator'])\n",
    "--->"
   ]
  },
  {
   "cell_type": "code",
   "execution_count": null,
   "metadata": {
    "collapsed": false
   },
   "outputs": [],
   "source": []
  },
  {
   "cell_type": "markdown",
   "metadata": {},
   "source": [
    "Well, that looks wrong. _What might the problem be_?"
   ]
  },
  {
   "cell_type": "markdown",
   "metadata": {},
   "source": [
    "of course! The num_legs doesn't contain a `bool`, it contains the count of legs for the given animal.  Lets replace `num_legs` to a boolean that represents if the animals has legs or not.\n",
    "\n",
    "  - 0 if the animal has no legs\n",
    "  - 1 if the animals has 1 or more legs\n",
    "  \n",
    "<!---\n",
    "df = pd.DataFrame(animals)\n",
    "for col in df.columns:\n",
    "    if col is \"_name\":\n",
    "        pass\n",
    "    elif col is \"num_legs\":\n",
    "        df[col] = df[col].map(lambda x: 0 if x == 0 else 1)\n",
    "    else:\n",
    "        df[col] = df[col].astype(np.int)\n",
    "--->"
   ]
  },
  {
   "cell_type": "code",
   "execution_count": null,
   "metadata": {
    "collapsed": true
   },
   "outputs": [],
   "source": []
  },
  {
   "cell_type": "markdown",
   "metadata": {},
   "source": [
    "Again, we need to convert our dataframe to a dictionary containing the `key` of the animal name and the `value` of a vector of feature values.  We've done this before but lets do it again for practice.\n",
    "\n",
    "<!---\n",
    "df.index = df.pop(\"_name\")\n",
    "animal_dict = df.T.to_dict()\n",
    "animal_features = {}\n",
    "for key, value in animal_dict.items():\n",
    "    animal_features[key] = np.array(list(value.values()))\n",
    "animal_features\n",
    "--->"
   ]
  },
  {
   "cell_type": "code",
   "execution_count": null,
   "metadata": {
    "collapsed": false
   },
   "outputs": [],
   "source": []
  },
  {
   "cell_type": "markdown",
   "metadata": {},
   "source": [
    "How does this change our Euclidean distance for each animal?\n",
    "\n",
    " - Rattlesnake\n",
    " - Boa Constrictor\n",
    " - Dart frog\n",
    " - Alligator\n",
    " \n",
    "<!---\n",
    "compare_animals(animal_features, \n",
    "                ['Rattlesnake', 'Boa constrictor', 'Dart frog', 'Alligator'])\n",
    "--->"
   ]
  },
  {
   "cell_type": "code",
   "execution_count": null,
   "metadata": {
    "collapsed": false
   },
   "outputs": [],
   "source": []
  },
  {
   "cell_type": "markdown",
   "metadata": {},
   "source": [
    "And for funzies lets check all animals against eachother.\n",
    "\n",
    "<!---\n",
    "compare_animals(animal_features)\n",
    "--->"
   ]
  },
  {
   "cell_type": "code",
   "execution_count": null,
   "metadata": {
    "collapsed": false
   },
   "outputs": [],
   "source": []
  },
  {
   "cell_type": "markdown",
   "metadata": {},
   "source": [
    "# References and Further Reading\n",
    "\n",
    "* [A Few Useful Things to Know about Machine Learning](http://www.astro.caltech.edu/~george/ay122/cacm12.pdf)"
   ]
  }
 ],
 "metadata": {
  "kernelspec": {
   "display_name": "Python 3",
   "language": "python",
   "name": "python3"
  },
  "language_info": {
   "codemirror_mode": {
    "name": "ipython",
    "version": 3
   },
   "file_extension": ".py",
   "mimetype": "text/x-python",
   "name": "python",
   "nbconvert_exporter": "python",
   "pygments_lexer": "ipython3",
   "version": "3.4.3"
  }
 },
 "nbformat": 4,
 "nbformat_minor": 0
}
